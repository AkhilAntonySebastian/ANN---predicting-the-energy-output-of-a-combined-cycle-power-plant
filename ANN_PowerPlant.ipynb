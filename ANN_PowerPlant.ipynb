{
  "nbformat": 4,
  "nbformat_minor": 0,
  "metadata": {
    "colab": {
      "provenance": []
    },
    "kernelspec": {
      "name": "python3",
      "display_name": "Python 3"
    },
    "language_info": {
      "name": "python"
    }
  },
  "cells": [
    {
      "cell_type": "code",
      "execution_count": 1,
      "metadata": {
        "id": "4M-DKo4eYPL_"
      },
      "outputs": [],
      "source": [
        "import numpy as np\n",
        "import pandas as pd\n",
        "import tensorflow as tf"
      ]
    },
    {
      "cell_type": "code",
      "source": [
        "tf.__version__"
      ],
      "metadata": {
        "colab": {
          "base_uri": "https://localhost:8080/",
          "height": 35
        },
        "id": "5__v3mb7YdlF",
        "outputId": "49397b2d-f290-4538-f49f-1ffcc029701f"
      },
      "execution_count": 2,
      "outputs": [
        {
          "output_type": "execute_result",
          "data": {
            "text/plain": [
              "'2.13.0'"
            ],
            "application/vnd.google.colaboratory.intrinsic+json": {
              "type": "string"
            }
          },
          "metadata": {},
          "execution_count": 2
        }
      ]
    },
    {
      "cell_type": "code",
      "source": [
        "dataset = pd.read_csv('Power Plant.csv')\n",
        "x = dataset.iloc[:, :-1].values\n",
        "y = dataset.iloc[:, -1].values"
      ],
      "metadata": {
        "id": "Uuqw4smsYlbh"
      },
      "execution_count": 4,
      "outputs": []
    },
    {
      "cell_type": "code",
      "source": [
        "print(x)"
      ],
      "metadata": {
        "colab": {
          "base_uri": "https://localhost:8080/"
        },
        "id": "I1sTVcbqctaV",
        "outputId": "4e03eebf-c017-486f-f78a-6d73adf5d654"
      },
      "execution_count": 11,
      "outputs": [
        {
          "output_type": "stream",
          "name": "stdout",
          "text": [
            "[[  14.96   41.76 1024.07   73.17]\n",
            " [  25.18   62.96 1020.04   59.08]\n",
            " [   5.11   39.4  1012.16   92.14]\n",
            " ...\n",
            " [  31.32   74.33 1012.92   36.48]\n",
            " [  24.48   69.45 1013.86   62.39]\n",
            " [  21.6    62.52 1017.23   67.87]]\n"
          ]
        }
      ]
    },
    {
      "cell_type": "markdown",
      "source": [
        "Splitting into train and test set"
      ],
      "metadata": {
        "id": "M-EGyOvfaSC7"
      }
    },
    {
      "cell_type": "code",
      "source": [
        "print(y)"
      ],
      "metadata": {
        "colab": {
          "base_uri": "https://localhost:8080/"
        },
        "id": "4TTqzs3EcwDl",
        "outputId": "471a8399-9cee-42d0-e26f-3ffa4f91943e"
      },
      "execution_count": 12,
      "outputs": [
        {
          "output_type": "stream",
          "name": "stdout",
          "text": [
            "[463.26 444.37 488.56 ... 429.57 435.74 453.28]\n"
          ]
        }
      ]
    },
    {
      "cell_type": "code",
      "source": [
        "from sklearn.model_selection import train_test_split\n",
        "x_train, x_test, y_train, y_test = train_test_split(x, y, test_size = 0.2, random_state = 0)"
      ],
      "metadata": {
        "id": "p6KkK-eIaOkZ"
      },
      "execution_count": 5,
      "outputs": []
    },
    {
      "cell_type": "markdown",
      "source": [
        "ANN"
      ],
      "metadata": {
        "id": "T192M2RoauTs"
      }
    },
    {
      "cell_type": "code",
      "source": [
        "ann = tf.keras.models.Sequential()"
      ],
      "metadata": {
        "id": "w1SRcCEHau6g"
      },
      "execution_count": 6,
      "outputs": []
    },
    {
      "cell_type": "markdown",
      "source": [
        "Adding layers"
      ],
      "metadata": {
        "id": "ruGMgD6abFJ3"
      }
    },
    {
      "cell_type": "code",
      "source": [
        "ann.add(tf.keras.layers.Dense(units=6, activation='relu'))\n",
        "ann.add(tf.keras.layers.Dense(units=6, activation='relu'))\n",
        "ann.add(tf.keras.layers.Dense(units=1))"
      ],
      "metadata": {
        "id": "SnPnuqsQbBkO"
      },
      "execution_count": 7,
      "outputs": []
    },
    {
      "cell_type": "markdown",
      "source": [
        "Training"
      ],
      "metadata": {
        "id": "F54EWdm4bl_I"
      }
    },
    {
      "cell_type": "code",
      "source": [
        "ann.compile(optimizer = 'adam', loss = 'mean_squared_error')\n"
      ],
      "metadata": {
        "id": "-RAlWIzybm7v"
      },
      "execution_count": 8,
      "outputs": []
    },
    {
      "cell_type": "code",
      "source": [
        "ann.fit(x_train, y_train, batch_size = 32, epochs = 100)"
      ],
      "metadata": {
        "colab": {
          "base_uri": "https://localhost:8080/"
        },
        "id": "u5RJbZ_ob5U5",
        "outputId": "215ec724-d84c-486c-efd3-abfd7c807b5e"
      },
      "execution_count": 9,
      "outputs": [
        {
          "output_type": "stream",
          "name": "stdout",
          "text": [
            "Epoch 1/100\n",
            "240/240 [==============================] - 2s 2ms/step - loss: 424338.8438\n",
            "Epoch 2/100\n",
            "240/240 [==============================] - 1s 2ms/step - loss: 125275.9375\n",
            "Epoch 3/100\n",
            "240/240 [==============================] - 1s 2ms/step - loss: 14304.0859\n",
            "Epoch 4/100\n",
            "240/240 [==============================] - 1s 2ms/step - loss: 267.8577\n",
            "Epoch 5/100\n",
            "240/240 [==============================] - 1s 2ms/step - loss: 242.3015\n",
            "Epoch 6/100\n",
            "240/240 [==============================] - 0s 2ms/step - loss: 240.0054\n",
            "Epoch 7/100\n",
            "240/240 [==============================] - 1s 2ms/step - loss: 237.4162\n",
            "Epoch 8/100\n",
            "240/240 [==============================] - 1s 2ms/step - loss: 234.6563\n",
            "Epoch 9/100\n",
            "240/240 [==============================] - 1s 2ms/step - loss: 231.4495\n",
            "Epoch 10/100\n",
            "240/240 [==============================] - 1s 2ms/step - loss: 228.3350\n",
            "Epoch 11/100\n",
            "240/240 [==============================] - 1s 2ms/step - loss: 224.4969\n",
            "Epoch 12/100\n",
            "240/240 [==============================] - 1s 2ms/step - loss: 220.1468\n",
            "Epoch 13/100\n",
            "240/240 [==============================] - 1s 2ms/step - loss: 215.4193\n",
            "Epoch 14/100\n",
            "240/240 [==============================] - 1s 3ms/step - loss: 210.2994\n",
            "Epoch 15/100\n",
            "240/240 [==============================] - 1s 3ms/step - loss: 204.6338\n",
            "Epoch 16/100\n",
            "240/240 [==============================] - 1s 3ms/step - loss: 198.3416\n",
            "Epoch 17/100\n",
            "240/240 [==============================] - 1s 2ms/step - loss: 191.9319\n",
            "Epoch 18/100\n",
            "240/240 [==============================] - 0s 2ms/step - loss: 184.5307\n",
            "Epoch 19/100\n",
            "240/240 [==============================] - 1s 2ms/step - loss: 176.9440\n",
            "Epoch 20/100\n",
            "240/240 [==============================] - 1s 2ms/step - loss: 169.0579\n",
            "Epoch 21/100\n",
            "240/240 [==============================] - 0s 2ms/step - loss: 160.0682\n",
            "Epoch 22/100\n",
            "240/240 [==============================] - 0s 2ms/step - loss: 150.8892\n",
            "Epoch 23/100\n",
            "240/240 [==============================] - 1s 2ms/step - loss: 141.5355\n",
            "Epoch 24/100\n",
            "240/240 [==============================] - 1s 4ms/step - loss: 131.8384\n",
            "Epoch 25/100\n",
            "240/240 [==============================] - 1s 4ms/step - loss: 122.1300\n",
            "Epoch 26/100\n",
            "240/240 [==============================] - 1s 3ms/step - loss: 112.2459\n",
            "Epoch 27/100\n",
            "240/240 [==============================] - 1s 3ms/step - loss: 102.5668\n",
            "Epoch 28/100\n",
            "240/240 [==============================] - 0s 2ms/step - loss: 92.7653\n",
            "Epoch 29/100\n",
            "240/240 [==============================] - 0s 2ms/step - loss: 83.6315\n",
            "Epoch 30/100\n",
            "240/240 [==============================] - 0s 2ms/step - loss: 74.5907\n",
            "Epoch 31/100\n",
            "240/240 [==============================] - 1s 2ms/step - loss: 66.7431\n",
            "Epoch 32/100\n",
            "240/240 [==============================] - 0s 2ms/step - loss: 59.7201\n",
            "Epoch 33/100\n",
            "240/240 [==============================] - 0s 2ms/step - loss: 53.5961\n",
            "Epoch 34/100\n",
            "240/240 [==============================] - 0s 2ms/step - loss: 48.1664\n",
            "Epoch 35/100\n",
            "240/240 [==============================] - 1s 3ms/step - loss: 43.8499\n",
            "Epoch 36/100\n",
            "240/240 [==============================] - 1s 3ms/step - loss: 40.2597\n",
            "Epoch 37/100\n",
            "240/240 [==============================] - 1s 3ms/step - loss: 37.5929\n",
            "Epoch 38/100\n",
            "240/240 [==============================] - 1s 3ms/step - loss: 35.3104\n",
            "Epoch 39/100\n",
            "240/240 [==============================] - 1s 2ms/step - loss: 33.8414\n",
            "Epoch 40/100\n",
            "240/240 [==============================] - 1s 2ms/step - loss: 32.3460\n",
            "Epoch 41/100\n",
            "240/240 [==============================] - 1s 2ms/step - loss: 30.9871\n",
            "Epoch 42/100\n",
            "240/240 [==============================] - 1s 2ms/step - loss: 30.2698\n",
            "Epoch 43/100\n",
            "240/240 [==============================] - 1s 2ms/step - loss: 29.6127\n",
            "Epoch 44/100\n",
            "240/240 [==============================] - 0s 2ms/step - loss: 29.2244\n",
            "Epoch 45/100\n",
            "240/240 [==============================] - 0s 2ms/step - loss: 29.3548\n",
            "Epoch 46/100\n",
            "240/240 [==============================] - 0s 2ms/step - loss: 28.5673\n",
            "Epoch 47/100\n",
            "240/240 [==============================] - 0s 2ms/step - loss: 29.3924\n",
            "Epoch 48/100\n",
            "240/240 [==============================] - 1s 2ms/step - loss: 28.2401\n",
            "Epoch 49/100\n",
            "240/240 [==============================] - 0s 2ms/step - loss: 28.6024\n",
            "Epoch 50/100\n",
            "240/240 [==============================] - 0s 2ms/step - loss: 28.0508\n",
            "Epoch 51/100\n",
            "240/240 [==============================] - 0s 2ms/step - loss: 27.6947\n",
            "Epoch 52/100\n",
            "240/240 [==============================] - 0s 2ms/step - loss: 27.5575\n",
            "Epoch 53/100\n",
            "240/240 [==============================] - 0s 2ms/step - loss: 27.7174\n",
            "Epoch 54/100\n",
            "240/240 [==============================] - 0s 2ms/step - loss: 27.5647\n",
            "Epoch 55/100\n",
            "240/240 [==============================] - 0s 2ms/step - loss: 27.3755\n",
            "Epoch 56/100\n",
            "240/240 [==============================] - 1s 2ms/step - loss: 27.5488\n",
            "Epoch 57/100\n",
            "240/240 [==============================] - 0s 2ms/step - loss: 27.2308\n",
            "Epoch 58/100\n",
            "240/240 [==============================] - 1s 2ms/step - loss: 27.0393\n",
            "Epoch 59/100\n",
            "240/240 [==============================] - 2s 8ms/step - loss: 26.9259\n",
            "Epoch 60/100\n",
            "240/240 [==============================] - 2s 8ms/step - loss: 27.3689\n",
            "Epoch 61/100\n",
            "240/240 [==============================] - 1s 5ms/step - loss: 26.8924\n",
            "Epoch 62/100\n",
            "240/240 [==============================] - 1s 2ms/step - loss: 27.0518\n",
            "Epoch 63/100\n",
            "240/240 [==============================] - 1s 2ms/step - loss: 27.7689\n",
            "Epoch 64/100\n",
            "240/240 [==============================] - 1s 2ms/step - loss: 26.8738\n",
            "Epoch 65/100\n",
            "240/240 [==============================] - 0s 2ms/step - loss: 26.7963\n",
            "Epoch 66/100\n",
            "240/240 [==============================] - 1s 2ms/step - loss: 26.9978\n",
            "Epoch 67/100\n",
            "240/240 [==============================] - 0s 2ms/step - loss: 26.7732\n",
            "Epoch 68/100\n",
            "240/240 [==============================] - 0s 2ms/step - loss: 26.7510\n",
            "Epoch 69/100\n",
            "240/240 [==============================] - 0s 2ms/step - loss: 26.9999\n",
            "Epoch 70/100\n",
            "240/240 [==============================] - 0s 2ms/step - loss: 26.4885\n",
            "Epoch 71/100\n",
            "240/240 [==============================] - 0s 2ms/step - loss: 26.5496\n",
            "Epoch 72/100\n",
            "240/240 [==============================] - 1s 2ms/step - loss: 26.7214\n",
            "Epoch 73/100\n",
            "240/240 [==============================] - 0s 2ms/step - loss: 27.0908\n",
            "Epoch 74/100\n",
            "240/240 [==============================] - 1s 2ms/step - loss: 26.6982\n",
            "Epoch 75/100\n",
            "240/240 [==============================] - 1s 2ms/step - loss: 26.6246\n",
            "Epoch 76/100\n",
            "240/240 [==============================] - 1s 2ms/step - loss: 26.4283\n",
            "Epoch 77/100\n",
            "240/240 [==============================] - 1s 2ms/step - loss: 26.6206\n",
            "Epoch 78/100\n",
            "240/240 [==============================] - 1s 2ms/step - loss: 26.7022\n",
            "Epoch 79/100\n",
            "240/240 [==============================] - 1s 3ms/step - loss: 26.8404\n",
            "Epoch 80/100\n",
            "240/240 [==============================] - 1s 3ms/step - loss: 26.5409\n",
            "Epoch 81/100\n",
            "240/240 [==============================] - 1s 3ms/step - loss: 26.5081\n",
            "Epoch 82/100\n",
            "240/240 [==============================] - 1s 3ms/step - loss: 26.6016\n",
            "Epoch 83/100\n",
            "240/240 [==============================] - 0s 2ms/step - loss: 26.7215\n",
            "Epoch 84/100\n",
            "240/240 [==============================] - 0s 2ms/step - loss: 26.7409\n",
            "Epoch 85/100\n",
            "240/240 [==============================] - 0s 2ms/step - loss: 26.5528\n",
            "Epoch 86/100\n",
            "240/240 [==============================] - 0s 2ms/step - loss: 26.5468\n",
            "Epoch 87/100\n",
            "240/240 [==============================] - 0s 2ms/step - loss: 26.5528\n",
            "Epoch 88/100\n",
            "240/240 [==============================] - 0s 2ms/step - loss: 27.0095\n",
            "Epoch 89/100\n",
            "240/240 [==============================] - 0s 2ms/step - loss: 26.5072\n",
            "Epoch 90/100\n",
            "240/240 [==============================] - 0s 2ms/step - loss: 26.6165\n",
            "Epoch 91/100\n",
            "240/240 [==============================] - 0s 2ms/step - loss: 26.7052\n",
            "Epoch 92/100\n",
            "240/240 [==============================] - 0s 2ms/step - loss: 26.3905\n",
            "Epoch 93/100\n",
            "240/240 [==============================] - 0s 2ms/step - loss: 27.0236\n",
            "Epoch 94/100\n",
            "240/240 [==============================] - 0s 2ms/step - loss: 26.9491\n",
            "Epoch 95/100\n",
            "240/240 [==============================] - 0s 2ms/step - loss: 26.3922\n",
            "Epoch 96/100\n",
            "240/240 [==============================] - 0s 2ms/step - loss: 26.7247\n",
            "Epoch 97/100\n",
            "240/240 [==============================] - 0s 2ms/step - loss: 26.4352\n",
            "Epoch 98/100\n",
            "240/240 [==============================] - 0s 2ms/step - loss: 27.7034\n",
            "Epoch 99/100\n",
            "240/240 [==============================] - 0s 2ms/step - loss: 26.8155\n",
            "Epoch 100/100\n",
            "240/240 [==============================] - 0s 2ms/step - loss: 27.0248\n"
          ]
        },
        {
          "output_type": "execute_result",
          "data": {
            "text/plain": [
              "<keras.src.callbacks.History at 0x7d614961c490>"
            ]
          },
          "metadata": {},
          "execution_count": 9
        }
      ]
    },
    {
      "cell_type": "code",
      "source": [
        "y_pred = ann.predict(x_test)\n",
        "np.set_printoptions(precision=2)\n",
        "print(np.concatenate((y_pred.reshape(len(y_pred),1), y_test.reshape(len(y_test),1)),1))"
      ],
      "metadata": {
        "colab": {
          "base_uri": "https://localhost:8080/"
        },
        "id": "CSL5pJYMcW8z",
        "outputId": "ac702391-4acf-41e0-b5b0-a9d279003b88"
      },
      "execution_count": 13,
      "outputs": [
        {
          "output_type": "stream",
          "name": "stdout",
          "text": [
            "60/60 [==============================] - 0s 1ms/step\n",
            "[[431.16 431.23]\n",
            " [462.3  460.01]\n",
            " [465.83 461.14]\n",
            " ...\n",
            " [473.03 473.26]\n",
            " [439.85 438.  ]\n",
            " [459.06 463.28]]\n"
          ]
        }
      ]
    },
    {
      "cell_type": "code",
      "source": [],
      "metadata": {
        "id": "0ci3POHTdEzi"
      },
      "execution_count": null,
      "outputs": []
    }
  ]
}